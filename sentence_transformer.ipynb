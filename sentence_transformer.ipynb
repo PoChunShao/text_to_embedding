{
 "cells": [
  {
   "cell_type": "code",
   "execution_count": 82,
   "metadata": {},
   "outputs": [
    {
     "name": "stderr",
     "output_type": "stream",
     "text": [
      "No sentence-transformers model found with name C:\\Users\\pochun/.cache\\torch\\sentence_transformers\\GanymedeNil_text2vec-large-chinese. Creating a new one with MEAN pooling.\n"
     ]
    }
   ],
   "source": [
    "import torch\n",
    "import numpy as np\n",
    "import pandas as pd\n",
    "from sentence_transformers import SentenceTransformer\n",
    "from sentence_transformers.util import cos_sim\n",
    "\n",
    "torch.device(\"cuda\" if torch.cuda.is_available() else \"cpu\")\n",
    "# model = SentenceTransformer(\"sentence-transformers/all-mpnet-base-v2\")\n",
    "# model = SentenceTransformer(\"shibing624/text2vec-base-chinese\")\n",
    "model = SentenceTransformer(\"GanymedeNil/text2vec-large-chinese\")"
   ]
  },
  {
   "cell_type": "code",
   "execution_count": 83,
   "metadata": {},
   "outputs": [],
   "source": [
    "# sentences = [\"美國矽谷銀行倒閉對國泰人壽有影響嗎\",\"矽谷銀行崩盤，投資型保單會有影響嗎\",\n",
    "#             \"外國人投保旅平險其最高可投保多少保額？\",\"矽谷銀行倒閉是否對國壽投資型商品之投資標的有重大影響?\"]\n",
    "# embeddings = model.encode(sentences)\n",
    "# query = \"美國矽谷銀行倒閉對國泰人壽有影響嗎？\"\n",
    "# query_embeddings = model.encode(query)\n",
    "\n",
    "# sim = np.zeros((len(sentences), len(sentences)))\n",
    "# for i in range(len(sentences)):\n",
    "#     sim[i:,i] = cos_sim(embeddings[i], embeddings[i:])\n",
    "\n",
    "# for i in range(len(sentences)):\n",
    "#     print(cos_sim(embeddings[i],query_embeddings))\n",
    "\n",
    "question = pd.read_excel('./QA整理_0411.xlsx')\n",
    "ques_list = question['問題'].to_list()\n",
    "# embeddings = model.encode(ques_list)\n",
    "query = \"銀行倒閉對我的投資型保單有影響嗎\"\n",
    "query_embeddings = model.encode(query)\n",
    "\n",
    "question['sim'] = question['問題'].apply(lambda x: model.encode(x))\n",
    "rank_result = question['sim'].apply(lambda x: cos_sim(x, query_embeddings).numpy()[0][0])\n"
   ]
  },
  {
   "cell_type": "code",
   "execution_count": 85,
   "metadata": {},
   "outputs": [
    {
     "name": "stdout",
     "output_type": "stream",
     "text": [
      "3    矽谷銀行倒閉對我的保單是否有影響?\n",
      "Name: 問題, dtype: object\n",
      "3    矽谷銀行倒閉對國泰人壽投資型保單無重大影響，只有少部分基金與類全委標的持有相關部位，投資比率...\n",
      "Name: 回答, dtype: object\n",
      "5    矽谷銀行崩盤，投資型保單會有影響嗎\n",
      "Name: 問題, dtype: object\n",
      "5    矽谷銀行倒閉對國泰人壽投資型保單無重大影響，只有少部分基金與類全委標的持有相關部位，投資比率...\n",
      "Name: 回答, dtype: object\n",
      "4    矽谷銀行倒閉跟我的保單有關係嗎\n",
      "Name: 問題, dtype: object\n",
      "4    矽谷銀行倒閉對國泰人壽投資型保單無重大影響，只有少部分基金與類全委標的持有相關部位，投資比率...\n",
      "Name: 回答, dtype: object\n",
      "0    矽谷銀行倒閉對保單影響\n",
      "Name: 問題, dtype: object\n",
      "0    矽谷銀行倒閉對國泰人壽投資型保單無重大影響，只有少部分基金與類全委標的持有相關部位，投資比率...\n",
      "Name: 回答, dtype: object\n",
      "2    矽谷銀行倒閉是否對國壽投資型商品之投資標的有重大影響?\n",
      "Name: 問題, dtype: object\n",
      "2    矽谷銀行倒閉對國泰人壽投資型保單無重大影響，只有少部分基金與類全委標的持有相關部位，投資比率...\n",
      "Name: 回答, dtype: object\n"
     ]
    }
   ],
   "source": [
    "ans = rank_result.sort_values(ascending=False).head(5)\n",
    "for i in ans.index:\n",
    "    print(question[question.index==i]['問題'])\n",
    "    print(question[question.index==i]['回答'])"
   ]
  },
  {
   "cell_type": "code",
   "execution_count": null,
   "metadata": {},
   "outputs": [],
   "source": []
  },
  {
   "cell_type": "code",
   "execution_count": null,
   "metadata": {},
   "outputs": [],
   "source": []
  },
  {
   "cell_type": "code",
   "execution_count": null,
   "metadata": {},
   "outputs": [],
   "source": []
  }
 ],
 "metadata": {
  "kernelspec": {
   "display_name": "pytorch",
   "language": "python",
   "name": "python3"
  },
  "language_info": {
   "codemirror_mode": {
    "name": "ipython",
    "version": 3
   },
   "file_extension": ".py",
   "mimetype": "text/x-python",
   "name": "python",
   "nbconvert_exporter": "python",
   "pygments_lexer": "ipython3",
   "version": "3.9.16"
  },
  "orig_nbformat": 4
 },
 "nbformat": 4,
 "nbformat_minor": 2
}
